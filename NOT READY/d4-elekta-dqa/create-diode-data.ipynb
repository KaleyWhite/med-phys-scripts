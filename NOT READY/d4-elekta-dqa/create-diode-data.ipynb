{
 "cells": [
  {
   "cell_type": "code",
   "execution_count": 1,
   "id": "4f12e595",
   "metadata": {},
   "outputs": [],
   "source": [
    "from collections import OrderedDict\n",
    "import os\n",
    "\n",
    "import pandas as pd"
   ]
  },
  {
   "cell_type": "code",
   "execution_count": 19,
   "id": "1edae017",
   "metadata": {},
   "outputs": [],
   "source": [
    "D4_EXPORTS_DIR = os.path.join('data', 'd4-exports')\n",
    "\n",
    "N_ROW, N_COL = 25, 42\n",
    "N_DIODES = N_ROW * N_COL"
   ]
  },
  {
   "cell_type": "code",
   "execution_count": 27,
   "id": "77c5e354",
   "metadata": {},
   "outputs": [
    {
     "name": "stdout",
     "output_type": "stream",
     "text": [
      "['Machine, 63000', 'Radiation Device, 63000', 'Run, 63000', 'Normalization Level, 63000', 'Dose Type, 63000', 'Distance [mm], 81000', 'X (iec-left) [mm], 81000', 'Z (iec-up) [mm], 81000', 'Y (iec-head) [mm], 298410', 'Dose [Gy], 84853']\n"
     ]
    }
   ],
   "source": [
    "diode_data = OrderedDict([(col, []) for col in ['Machine', 'Radiation Device', 'Run', 'Normalization Level', 'Dose Type', 'Distance [mm]', 'X (iec-left) [mm]', 'Z (iec-up) [mm]', 'Y (iec-head) [mm]', 'Dose [Gy]']])\n",
    "\n",
    "for f in os.listdir(D4_EXPORTS_DIR):\n",
    "    \n",
    "    machine, rad_dev, dose_type, norm, run = os.path.splitext(f)[0].split()\n",
    "    if dose_type.startswith('Beam'):\n",
    "        dose_type = 'Beam ' + dose_type[-1]\n",
    "    \n",
    "    with open(os.path.join(D4_EXPORTS_DIR, f)) as data:\n",
    "        lines = data.readlines()\n",
    "        \n",
    "        dist = lines[5][1:].split('\\t')\n",
    "        x = lines[6][1:].split('\\t')\n",
    "        z = lines[7][1:].split('\\t')\n",
    "        \n",
    "        diode_data['Machine'].extend([machine] * N_DIODES)\n",
    "        diode_data['Radiation Device'].extend([rad_dev] * N_DIODES)\n",
    "        diode_data['Run'].extend([run] * N_DIODES)\n",
    "        diode_data['Normalization Level'].extend([norm] * N_DIODES)\n",
    "        diode_data['Dose Type'].extend([dose_type] * N_DIODES)\n",
    "        \n",
    "        diode_data['Distance [mm]'].extend(dist * N_ROW)\n",
    "        diode_data['X (iec-left) [mm]'].extend(x * N_ROW)\n",
    "        diode_data['Z (iec-up) [mm]'].extend(z * N_ROW)\n",
    "        \n",
    "        for l in lines[9:]:\n",
    "            l = l.split('\\t')\n",
    "            diode_data['Y (iec-head) [mm]'].extend(l[0] * N_COL)\n",
    "            diode_data['Dose [Gy]'].extend(l[1:])\n",
    "print([f'{k}, {len(v)}' for k, v in diode_data.items()])\n",
    "#pd.DataFrame(diode_data)"
   ]
  }
 ],
 "metadata": {
  "kernelspec": {
   "display_name": "Python 3",
   "language": "python",
   "name": "python3"
  },
  "language_info": {
   "codemirror_mode": {
    "name": "ipython",
    "version": 3
   },
   "file_extension": ".py",
   "mimetype": "text/x-python",
   "name": "python",
   "nbconvert_exporter": "python",
   "pygments_lexer": "ipython3",
   "version": "3.9.5"
  }
 },
 "nbformat": 4,
 "nbformat_minor": 5
}
